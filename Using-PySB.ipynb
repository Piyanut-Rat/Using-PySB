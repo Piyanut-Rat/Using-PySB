{
 "cells": [
  {
   "cell_type": "code",
   "execution_count": 10,
   "metadata": {},
   "outputs": [],
   "source": [
    "from pysb import *\n",
    "from pysb.integrate import Solver\n"
   ]
  },
  {
   "cell_type": "code",
   "execution_count": 2,
   "metadata": {},
   "outputs": [
    {
     "data": {
      "text/plain": [
       "<Model '_interactive_' (monomers: 0, rules: 0, parameters: 0, expressions: 0, compartments: 0) at 0x28c86145a00>"
      ]
     },
     "execution_count": 2,
     "metadata": {},
     "output_type": "execute_result"
    }
   ],
   "source": [
    "Model() "
   ]
  },
  {
   "cell_type": "code",
   "execution_count": 3,
   "metadata": {},
   "outputs": [
    {
     "data": {
      "text/plain": [
       "Monomer('A')"
      ]
     },
     "execution_count": 3,
     "metadata": {},
     "output_type": "execute_result"
    }
   ],
   "source": [
    "Monomer('A')"
   ]
  },
  {
   "cell_type": "code",
   "execution_count": 4,
   "metadata": {},
   "outputs": [
    {
     "data": {
      "text/latex": [
       "$\\displaystyle k$"
      ],
      "text/plain": [
       "Parameter('k', 3.0)"
      ]
     },
     "execution_count": 4,
     "metadata": {},
     "output_type": "execute_result"
    }
   ],
   "source": [
    "Parameter('k', 3.0)"
   ]
  },
  {
   "cell_type": "code",
   "execution_count": 5,
   "metadata": {},
   "outputs": [
    {
     "data": {
      "text/plain": [
       "Rule('synthesize_A', None >> A(), k)"
      ]
     },
     "execution_count": 5,
     "metadata": {},
     "output_type": "execute_result"
    }
   ],
   "source": [
    "Rule('synthesize_A', None >> A(), k)"
   ]
  },
  {
   "cell_type": "code",
   "execution_count": 6,
   "metadata": {},
   "outputs": [],
   "source": [
    "t = [0, 10, 20, 30, 40, 50, 60]"
   ]
  },
  {
   "cell_type": "code",
   "execution_count": 11,
   "metadata": {},
   "outputs": [
    {
     "ename": "BngInterfaceError",
     "evalue": "\nCan't locate BNGUtils.pm in @INC (you may need to install the BNGUtils module) (@INC contains: C:\\Users\\Lenovo\\AppData\\Local\\Programs\\Python\\Python39\\Lib\\site-packages\\bionetgen\\bng-win\\BNG2.pl\\Perl2 C:/Users/Lenovo/anaconda3/Library/vendor/lib C:/Users/Lenovo/anaconda3/Library/lib) at C:\\Users\\Lenovo\\AppData\\Local\\Programs\\Python\\Python39\\Lib\\site-packages\\bionetgen\\bng-win\\BNG2.pl line 50.\r\nBEGIN failed--compilation aborted at C:\\Users\\Lenovo\\AppData\\Local\\Programs\\Python\\Python39\\Lib\\site-packages\\bionetgen\\bng-win\\BNG2.pl line 50.",
     "output_type": "error",
     "traceback": [
      "\u001b[1;31m---------------------------------------------------------------------------\u001b[0m",
      "\u001b[1;31mBngInterfaceError\u001b[0m                         Traceback (most recent call last)",
      "\u001b[1;32m<ipython-input-11-0f650d4f7c58>\u001b[0m in \u001b[0;36m<module>\u001b[1;34m\u001b[0m\n\u001b[1;32m----> 1\u001b[1;33m \u001b[0msolver\u001b[0m \u001b[1;33m=\u001b[0m \u001b[0mSolver\u001b[0m\u001b[1;33m(\u001b[0m\u001b[0mmodel\u001b[0m\u001b[1;33m,\u001b[0m \u001b[0mt\u001b[0m\u001b[1;33m)\u001b[0m\u001b[1;33m\u001b[0m\u001b[1;33m\u001b[0m\u001b[0m\n\u001b[0m\u001b[0;32m      2\u001b[0m \u001b[0msolver\u001b[0m\u001b[1;33m.\u001b[0m\u001b[0mrun\u001b[0m\u001b[1;33m(\u001b[0m\u001b[1;33m)\u001b[0m\u001b[1;33m\u001b[0m\u001b[1;33m\u001b[0m\u001b[0m\n",
      "\u001b[1;32m~\\anaconda3\\lib\\site-packages\\pysb\\integrate.py\u001b[0m in \u001b[0;36m__init__\u001b[1;34m(self, model, tspan, use_analytic_jacobian, integrator, cleanup, verbose, **integrator_options)\u001b[0m\n\u001b[0;32m     65\u001b[0m                  \u001b[0mintegrator\u001b[0m\u001b[1;33m=\u001b[0m\u001b[1;34m'vode'\u001b[0m\u001b[1;33m,\u001b[0m \u001b[0mcleanup\u001b[0m\u001b[1;33m=\u001b[0m\u001b[1;32mTrue\u001b[0m\u001b[1;33m,\u001b[0m\u001b[1;33m\u001b[0m\u001b[1;33m\u001b[0m\u001b[0m\n\u001b[0;32m     66\u001b[0m                  verbose=False, **integrator_options):\n\u001b[1;32m---> 67\u001b[1;33m         self._sim = ScipyOdeSimulator(model, verbose=verbose, tspan=tspan,\n\u001b[0m\u001b[0;32m     68\u001b[0m                                      \u001b[0muse_analytic_jacobian\u001b[0m\u001b[1;33m=\u001b[0m\u001b[1;33m\u001b[0m\u001b[1;33m\u001b[0m\u001b[0m\n\u001b[0;32m     69\u001b[0m                                      \u001b[0muse_analytic_jacobian\u001b[0m\u001b[1;33m,\u001b[0m\u001b[1;33m\u001b[0m\u001b[1;33m\u001b[0m\u001b[0m\n",
      "\u001b[1;32m~\\anaconda3\\lib\\site-packages\\pysb\\simulator\\scipyode.py\u001b[0m in \u001b[0;36m__init__\u001b[1;34m(self, model, tspan, initials, param_values, verbose, **kwargs)\u001b[0m\n\u001b[0;32m    142\u001b[0m             ))\n\u001b[0;32m    143\u001b[0m         \u001b[1;31m# Generate the equations for the model\u001b[0m\u001b[1;33m\u001b[0m\u001b[1;33m\u001b[0m\u001b[1;33m\u001b[0m\u001b[0m\n\u001b[1;32m--> 144\u001b[1;33m         \u001b[0mpysb\u001b[0m\u001b[1;33m.\u001b[0m\u001b[0mbng\u001b[0m\u001b[1;33m.\u001b[0m\u001b[0mgenerate_equations\u001b[0m\u001b[1;33m(\u001b[0m\u001b[0mself\u001b[0m\u001b[1;33m.\u001b[0m\u001b[0m_model\u001b[0m\u001b[1;33m,\u001b[0m \u001b[0mcleanup\u001b[0m\u001b[1;33m,\u001b[0m \u001b[0mself\u001b[0m\u001b[1;33m.\u001b[0m\u001b[0mverbose\u001b[0m\u001b[1;33m)\u001b[0m\u001b[1;33m\u001b[0m\u001b[1;33m\u001b[0m\u001b[0m\n\u001b[0m\u001b[0;32m    145\u001b[0m \u001b[1;33m\u001b[0m\u001b[0m\n\u001b[0;32m    146\u001b[0m         \u001b[0mbuilder_cls\u001b[0m \u001b[1;33m=\u001b[0m \u001b[0m_select_rhs_builder\u001b[0m\u001b[1;33m(\u001b[0m\u001b[0mcompiler\u001b[0m\u001b[1;33m,\u001b[0m \u001b[0mself\u001b[0m\u001b[1;33m.\u001b[0m\u001b[0m_logger\u001b[0m\u001b[1;33m)\u001b[0m\u001b[1;33m\u001b[0m\u001b[1;33m\u001b[0m\u001b[0m\n",
      "\u001b[1;32m~\\anaconda3\\lib\\site-packages\\pysb\\bng.py\u001b[0m in \u001b[0;36mgenerate_equations\u001b[1;34m(model, cleanup, verbose, **kwargs)\u001b[0m\n\u001b[0;32m    717\u001b[0m     \u001b[1;32mif\u001b[0m \u001b[0mmodel\u001b[0m\u001b[1;33m.\u001b[0m\u001b[0mreactions\u001b[0m\u001b[1;33m:\u001b[0m\u001b[1;33m\u001b[0m\u001b[1;33m\u001b[0m\u001b[0m\n\u001b[0;32m    718\u001b[0m         \u001b[1;32mreturn\u001b[0m\u001b[1;33m\u001b[0m\u001b[1;33m\u001b[0m\u001b[0m\n\u001b[1;32m--> 719\u001b[1;33m     lines = iter(generate_network(model, cleanup=cleanup,\n\u001b[0m\u001b[0;32m    720\u001b[0m                                   verbose=verbose, **kwargs).split('\\n'))\n\u001b[0;32m    721\u001b[0m     \u001b[0m_parse_netfile\u001b[0m\u001b[1;33m(\u001b[0m\u001b[0mmodel\u001b[0m\u001b[1;33m,\u001b[0m \u001b[0mlines\u001b[0m\u001b[1;33m)\u001b[0m\u001b[1;33m\u001b[0m\u001b[1;33m\u001b[0m\u001b[0m\n",
      "\u001b[1;32m~\\anaconda3\\lib\\site-packages\\pysb\\bng.py\u001b[0m in \u001b[0;36mgenerate_network\u001b[1;34m(model, cleanup, append_stdout, verbose, **kwargs)\u001b[0m\n\u001b[0;32m    658\u001b[0m         bngfile.action('generate_network', overwrite=True,\n\u001b[0;32m    659\u001b[0m                        verbose=bng_action_debug, **kwargs)\n\u001b[1;32m--> 660\u001b[1;33m         \u001b[0mbngfile\u001b[0m\u001b[1;33m.\u001b[0m\u001b[0mexecute\u001b[0m\u001b[1;33m(\u001b[0m\u001b[1;33m)\u001b[0m\u001b[1;33m\u001b[0m\u001b[1;33m\u001b[0m\u001b[0m\n\u001b[0m\u001b[0;32m    661\u001b[0m \u001b[1;33m\u001b[0m\u001b[0m\n\u001b[0;32m    662\u001b[0m         \u001b[0moutput\u001b[0m \u001b[1;33m=\u001b[0m \u001b[0mbngfile\u001b[0m\u001b[1;33m.\u001b[0m\u001b[0mread_netfile\u001b[0m\u001b[1;33m(\u001b[0m\u001b[1;33m)\u001b[0m\u001b[1;33m\u001b[0m\u001b[1;33m\u001b[0m\u001b[0m\n",
      "\u001b[1;32m~\\anaconda3\\lib\\site-packages\\pysb\\bng.py\u001b[0m in \u001b[0;36mexecute\u001b[1;34m(self, reload_netfile, skip_file_actions)\u001b[0m\n\u001b[0;32m    472\u001b[0m         \u001b[0mp_err\u001b[0m \u001b[1;33m=\u001b[0m \u001b[0mp_err\u001b[0m\u001b[1;33m.\u001b[0m\u001b[0mdecode\u001b[0m\u001b[1;33m(\u001b[0m\u001b[1;34m'utf-8'\u001b[0m\u001b[1;33m)\u001b[0m\u001b[1;33m\u001b[0m\u001b[1;33m\u001b[0m\u001b[0m\n\u001b[0;32m    473\u001b[0m         \u001b[1;32mif\u001b[0m \u001b[0mp\u001b[0m\u001b[1;33m.\u001b[0m\u001b[0mreturncode\u001b[0m \u001b[1;32mor\u001b[0m \u001b[0mcaptured_error_lines\u001b[0m\u001b[1;33m:\u001b[0m\u001b[1;33m\u001b[0m\u001b[1;33m\u001b[0m\u001b[0m\n\u001b[1;32m--> 474\u001b[1;33m             raise BngInterfaceError('\\n'.join(captured_error_lines) + \"\\n\" +\n\u001b[0m\u001b[0;32m    475\u001b[0m                                     p_err.rstrip())\n\u001b[0;32m    476\u001b[0m \u001b[1;33m\u001b[0m\u001b[0m\n",
      "\u001b[1;31mBngInterfaceError\u001b[0m: \nCan't locate BNGUtils.pm in @INC (you may need to install the BNGUtils module) (@INC contains: C:\\Users\\Lenovo\\AppData\\Local\\Programs\\Python\\Python39\\Lib\\site-packages\\bionetgen\\bng-win\\BNG2.pl\\Perl2 C:/Users/Lenovo/anaconda3/Library/vendor/lib C:/Users/Lenovo/anaconda3/Library/lib) at C:\\Users\\Lenovo\\AppData\\Local\\Programs\\Python\\Python39\\Lib\\site-packages\\bionetgen\\bng-win\\BNG2.pl line 50.\r\nBEGIN failed--compilation aborted at C:\\Users\\Lenovo\\AppData\\Local\\Programs\\Python\\Python39\\Lib\\site-packages\\bionetgen\\bng-win\\BNG2.pl line 50."
     ]
    }
   ],
   "source": [
    "solver = Solver(model, t)\n",
    "solver.run()"
   ]
  },
  {
   "cell_type": "code",
   "execution_count": 12,
   "metadata": {},
   "outputs": [
    {
     "ename": "NameError",
     "evalue": "name 'solver' is not defined",
     "output_type": "error",
     "traceback": [
      "\u001b[1;31m---------------------------------------------------------------------------\u001b[0m",
      "\u001b[1;31mNameError\u001b[0m                                 Traceback (most recent call last)",
      "\u001b[1;32m<ipython-input-12-10de4af318d5>\u001b[0m in \u001b[0;36m<module>\u001b[1;34m\u001b[0m\n\u001b[1;32m----> 1\u001b[1;33m \u001b[0mprint\u001b[0m\u001b[1;33m(\u001b[0m\u001b[0msolver\u001b[0m\u001b[1;33m.\u001b[0m\u001b[0my\u001b[0m\u001b[1;33m[\u001b[0m\u001b[1;33m:\u001b[0m\u001b[1;33m,\u001b[0m \u001b[1;36m0\u001b[0m\u001b[1;33m]\u001b[0m\u001b[1;33m)\u001b[0m\u001b[1;33m\u001b[0m\u001b[1;33m\u001b[0m\u001b[0m\n\u001b[0m",
      "\u001b[1;31mNameError\u001b[0m: name 'solver' is not defined"
     ]
    }
   ],
   "source": [
    "print(solver.y[:, 0])"
   ]
  },
  {
   "cell_type": "code",
   "execution_count": null,
   "metadata": {},
   "outputs": [],
   "source": []
  }
 ],
 "metadata": {
  "kernelspec": {
   "display_name": "Python 3",
   "language": "python",
   "name": "python3"
  },
  "language_info": {
   "codemirror_mode": {
    "name": "ipython",
    "version": 3
   },
   "file_extension": ".py",
   "mimetype": "text/x-python",
   "name": "python",
   "nbconvert_exporter": "python",
   "pygments_lexer": "ipython3",
   "version": "3.8.5"
  }
 },
 "nbformat": 4,
 "nbformat_minor": 4
}
